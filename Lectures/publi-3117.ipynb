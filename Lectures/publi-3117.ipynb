{
 "cells": [
  {
   "cell_type": "code",
   "execution_count": null,
   "id": "7a0e9583-6e19-4511-9f34-ffe279efd62b",
   "metadata": {},
   "outputs": [],
   "source": [
    "## Low Complexity Metrics for BCIM SISO and MIMO Systems"
   ]
  },
  {
   "cell_type": "code",
   "execution_count": null,
   "id": "20d8bee4-53c2-4452-96f2-abda001ab8a1",
   "metadata": {},
   "outputs": [],
   "source": []
  },
  {
   "cell_type": "markdown",
   "id": "5b406112-af18-424b-9e50-d571d0afcd2b",
   "metadata": {},
   "source": [
    "# &#x1F4DA; References"
   ]
  },
  {
   "cell_type": "markdown",
   "id": "3ac4797a-95ec-4f78-b908-b40e251d42f4",
   "metadata": {},
   "source": [
    "#### &#x1F3F7; In signal processing, key metrics include:\n",
    "\n",
    "- **SNR (Signal-to-Noise Ratio):** Quality of signal relative to background noise.\n",
    "- **BER (Bit Error Rate):** Rate of errors in received bits.\n",
    "- **MSE (Mean Squared Error):** Average squared difference between original and estimated signals.\n",
    "- **PSNR (Peak Signal-to-Noise Ratio):** Measures error between original and compressed images.\n",
    "- **Spectral Efficiency:** Information rate per bandwidth unit.\n",
    "- **Cross-Correlation:** Similarity measure between two signals over a shift.\n",
    "- **Energy Efficiency:** Bits transmitted per energy unit.\n",
    "- **THD (Total Harmonic Distortion):** Degree of signal distortion compared to the original."
   ]
  },
  {
   "cell_type": "markdown",
   "id": "0a2644fe-cc1d-4289-a020-4f6b2c94ea09",
   "metadata": {},
   "source": [
    "#### &#x1F3F7; BICM stands for `B`it-`I`nterleaved `C`oded `M`odulation, \n",
    "\n",
    "a technique used in digital communication systems to improve the robustness of data transmission over noisy channels. BICM combines channel coding (error-correction coding) with modulation in a way that increases the system's ability to correct errors induced by the channel, thereby enhancing the overall spectral efficiency and reliability of the communication system.\n",
    "\n",
    "The process involves three main steps:\n",
    "1. **Channel Coding:** Data bits are encoded using an error-correcting code, which adds redundancy to the data to allow error detection and correction at the receiver.\n",
    "2. **Bit Interleaving:** The coded bits are then interleaved (reordered in a pseudo-random manner) to spread the errors that may occur in bursts over the transmitted data stream. This interleaving helps to distribute the errors more uniformly, making it easier for the error correction process at the receiver to correct these errors.\n",
    "3. **Modulation:** Finally, the interleaved bits are mapped to symbols according to a modulation scheme (e.g., QPSK, 16-QAM, etc.) and transmitted over the channel.\n",
    "\n",
    "At the receiver, the inverse operations are performed: demodulation, deinterleaving, and error correction decoding. The deinterleaving process rearranges the bits back to their original order before decoding."
   ]
  },
  {
   "cell_type": "code",
   "execution_count": null,
   "id": "13f63f63-1898-4576-843f-127ace409f80",
   "metadata": {},
   "outputs": [],
   "source": []
  },
  {
   "cell_type": "code",
   "execution_count": null,
   "id": "4ebbe93c-48ac-471c-a394-f656db5afb9d",
   "metadata": {},
   "outputs": [],
   "source": []
  }
 ],
 "metadata": {
  "kernelspec": {
   "display_name": "Julia 1.9.3",
   "language": "julia",
   "name": "julia-1.9"
  },
  "language_info": {
   "file_extension": ".jl",
   "mimetype": "application/julia",
   "name": "julia",
   "version": "1.10.0"
  }
 },
 "nbformat": 4,
 "nbformat_minor": 5
}
